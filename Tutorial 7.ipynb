{
 "cells": [
  {
   "cell_type": "code",
   "execution_count": 10,
   "id": "b919d7a4",
   "metadata": {},
   "outputs": [],
   "source": [
    "import numpy as np\n",
    "import cv2"
   ]
  },
  {
   "cell_type": "code",
   "execution_count": 17,
   "id": "59442d90",
   "metadata": {},
   "outputs": [],
   "source": [
    "img = cv2.resize(cv2.imread('soccer_practice.jpg', 0), (0,0), fx=0.8, fy=0.8)\n",
    "template = cv2.resize(cv2.imread('ball.PNG', 0),(0,0), fx=0.8, fy=0.8)\n",
    "h, w = template.shape"
   ]
  },
  {
   "cell_type": "code",
   "execution_count": 18,
   "id": "e1f421f0",
   "metadata": {},
   "outputs": [],
   "source": [
    "methods = [cv2.TM_CCOEFF, cv2.TM_CCOEFF_NORMED, cv2.TM_CCORR, cv2.TM_CCORR_NORMED, cv2.TM_SQDIFF, cv2.TM_SQDIFF_NORMED]"
   ]
  },
  {
   "cell_type": "code",
   "execution_count": 19,
   "id": "bbcade33",
   "metadata": {},
   "outputs": [],
   "source": [
    "for method in methods:\n",
    "    img2 = img.copy()\n",
    "    \n",
    "    result = cv2.matchTemplate(img2, template, method)\n",
    "    min_val, max_val, min_loc, max_loc = cv2.minMaxLoc(result)\n",
    "    if method in (cv2.TM_SQDIFF, cv2.TM_SQDIFF_NORMED):\n",
    "        location = min_loc\n",
    "    else: \n",
    "        location = max_loc\n",
    "        \n",
    "    bottom_right = (location[0] + w, location[1] + h)\n",
    "    cv2.rectangle(img2, location, bottom_right, 255, 5)\n",
    "    cv2.imshow('Match', img2)\n",
    "    cv2.waitKey(0)\n",
    "    cv2.destroyAllWindows()"
   ]
  },
  {
   "cell_type": "code",
   "execution_count": null,
   "id": "c787b774",
   "metadata": {},
   "outputs": [],
   "source": []
  }
 ],
 "metadata": {
  "kernelspec": {
   "display_name": "Python 3 (ipykernel)",
   "language": "python",
   "name": "python3"
  },
  "language_info": {
   "codemirror_mode": {
    "name": "ipython",
    "version": 3
   },
   "file_extension": ".py",
   "mimetype": "text/x-python",
   "name": "python",
   "nbconvert_exporter": "python",
   "pygments_lexer": "ipython3",
   "version": "3.11.5"
  }
 },
 "nbformat": 4,
 "nbformat_minor": 5
}
