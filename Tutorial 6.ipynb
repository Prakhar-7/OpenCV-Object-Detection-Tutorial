{
 "cells": [
  {
   "cell_type": "code",
   "execution_count": 59,
   "id": "52c3a72b",
   "metadata": {},
   "outputs": [],
   "source": [
    "import numpy as np\n",
    "import cv2"
   ]
  },
  {
   "cell_type": "code",
   "execution_count": 60,
   "id": "f4717f1c",
   "metadata": {},
   "outputs": [],
   "source": [
    "img = cv2.imread('P.jpg')\n",
    "img = cv2.resize(img, (0,0), fx=0.5, fy=0.5)"
   ]
  },
  {
   "cell_type": "code",
   "execution_count": 61,
   "id": "7a35d44a",
   "metadata": {},
   "outputs": [],
   "source": [
    "grey = cv2.cvtColor(img, cv2.COLOR_BGR2GRAY)"
   ]
  },
  {
   "cell_type": "code",
   "execution_count": 62,
   "id": "70e36d88",
   "metadata": {},
   "outputs": [],
   "source": [
    "corners = cv2.goodFeaturesToTrack(grey, 100, 0.5, 10)"
   ]
  },
  {
   "cell_type": "code",
   "execution_count": 63,
   "id": "6f46d008",
   "metadata": {},
   "outputs": [
    {
     "name": "stderr",
     "output_type": "stream",
     "text": [
      "C:\\Users\\ASUS\\AppData\\Local\\Temp\\ipykernel_18240\\929114271.py:1: DeprecationWarning: `np.int0` is a deprecated alias for `np.intp`.  (Deprecated NumPy 1.24)\n",
      "  corners = np.int0(corners)\n"
     ]
    }
   ],
   "source": [
    "corners = np.int0(corners)"
   ]
  },
  {
   "cell_type": "code",
   "execution_count": 64,
   "id": "644067ef",
   "metadata": {},
   "outputs": [],
   "source": [
    "for corner in corners: \n",
    "    x,y = corner.ravel() # revel is use to flatten array [[x,y]] --> [x,y]\n",
    "    cv2.circle(img, (x,y), 5, (255,0,0), 1)\n",
    "    "
   ]
  },
  {
   "cell_type": "code",
   "execution_count": 65,
   "id": "408ffaaa",
   "metadata": {},
   "outputs": [],
   "source": [
    "for i in range (len(corners)):\n",
    "    for j in range(i+1, len(corners)):\n",
    "        corner1 = tuple(corners[i][0])\n",
    "        corner2 = tuple(corners[j][0])\n",
    "        color = tuple(map(lambda x: int(x),np.random.randint(0, 255, size=3)))\n",
    "        cv2.line(img, corner1, corner2, color, 1)"
   ]
  },
  {
   "cell_type": "code",
   "execution_count": 66,
   "id": "b8b6f7bb",
   "metadata": {},
   "outputs": [],
   "source": [
    "cv2.imshow('Frame', img)\n",
    "cv2.waitKey(0)\n",
    "cv2.destroyAllWindows()"
   ]
  },
  {
   "cell_type": "code",
   "execution_count": null,
   "id": "0540eacd",
   "metadata": {},
   "outputs": [],
   "source": []
  }
 ],
 "metadata": {
  "kernelspec": {
   "display_name": "Python 3 (ipykernel)",
   "language": "python",
   "name": "python3"
  },
  "language_info": {
   "codemirror_mode": {
    "name": "ipython",
    "version": 3
   },
   "file_extension": ".py",
   "mimetype": "text/x-python",
   "name": "python",
   "nbconvert_exporter": "python",
   "pygments_lexer": "ipython3",
   "version": "3.11.5"
  }
 },
 "nbformat": 4,
 "nbformat_minor": 5
}
