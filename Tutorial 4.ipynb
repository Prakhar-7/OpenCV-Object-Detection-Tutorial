{
 "cells": [
  {
   "cell_type": "code",
   "execution_count": 1,
   "id": "19952575",
   "metadata": {},
   "outputs": [],
   "source": [
    "import cv2\n",
    "import numpy as np"
   ]
  },
  {
   "cell_type": "code",
   "execution_count": 15,
   "id": "430cb39a",
   "metadata": {},
   "outputs": [],
   "source": [
    "cap = cv2.VideoCapture(0)\n",
    "\n",
    "while True:\n",
    "    ret, frame = cap.read()\n",
    "    width = int(cap.get(3))\n",
    "    height = int(cap.get(4))\n",
    "    \n",
    "    img = cv2.line(frame, (0,0), (width, height), (0,255,255), 10) \n",
    "    img = cv2.line(frame, (width,0), (0, height), (0,255,0), 2) \n",
    "    img = cv2.line(frame, (0,height//2), (width, height//2), (255,0,255), 5) \n",
    "    img = cv2.line(frame, (width//2,0), (width//2, height), (0,0,255), 20) \n",
    "#   cv2.line(img source, starting position, ending position, color, thicknes)\n",
    "    \n",
    "    cv2.imshow('frame', img)\n",
    "    \n",
    "    if cv2.waitKey(1) == ord('q'):\n",
    "        break\n",
    "        \n",
    "cap.release()\n",
    "cv2.destroyAllWindows()"
   ]
  },
  {
   "cell_type": "code",
   "execution_count": 16,
   "id": "d545ec43",
   "metadata": {},
   "outputs": [
    {
     "name": "stdout",
     "output_type": "stream",
     "text": [
      "640 480\n"
     ]
    }
   ],
   "source": [
    "print(width, height)"
   ]
  },
  {
   "cell_type": "code",
   "execution_count": 9,
   "id": "83b04795",
   "metadata": {},
   "outputs": [],
   "source": [
    "cap = cv2.VideoCapture(0)\n",
    "\n",
    "while True:\n",
    "    ret, frame = cap.read()\n",
    "    width = int(cap.get(3))\n",
    "    height = int(cap.get(4))\n",
    "    \n",
    "#     Creating rectanle using inbuilt function : cv2.rectangle(img_src, starting_position, end_position, color, line_thickness/fillwith[-1])\n",
    "    img = cv2.rectangle(frame, (100,100), (200,200), (128,128,128), -1)\n",
    "    \n",
    "#     Creating circle using inbuilt function : cv2.circle(img_src, starting_position, radius, color, line_thickness/fillwith[-1])\n",
    "    img = cv2.circle(frame, (300,300), 60, (128,128,128), -1)\n",
    "    \n",
    "#    Writing Text on Imagee : cv2.putText(img, \"text\", (width-position{y-axis=0, starts from bottom}, height-position), font-style, ZoomIn, color, line-thickness, cv2.LINE_AA )\n",
    "    img = cv2.putText(frame, \"Smart to Bachpan se hi hu\", (10, height-10), cv2.FONT_ITALIC, 1, (0,128,0), 3, cv2.LINE_AA)\n",
    "    \n",
    "    \n",
    "    cv2.imshow('frame', img)\n",
    "    \n",
    "    if cv2.waitKey(1) == ord('q'):\n",
    "        break\n",
    "        \n",
    "cap.release()\n",
    "cv2.destroyAllWindows()"
   ]
  },
  {
   "cell_type": "code",
   "execution_count": null,
   "id": "96fdf353",
   "metadata": {},
   "outputs": [],
   "source": []
  }
 ],
 "metadata": {
  "kernelspec": {
   "display_name": "Python 3 (ipykernel)",
   "language": "python",
   "name": "python3"
  },
  "language_info": {
   "codemirror_mode": {
    "name": "ipython",
    "version": 3
   },
   "file_extension": ".py",
   "mimetype": "text/x-python",
   "name": "python",
   "nbconvert_exporter": "python",
   "pygments_lexer": "ipython3",
   "version": "3.11.5"
  }
 },
 "nbformat": 4,
 "nbformat_minor": 5
}
