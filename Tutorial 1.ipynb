{
 "cells": [
  {
   "cell_type": "code",
   "execution_count": 1,
   "id": "7a753d94",
   "metadata": {},
   "outputs": [],
   "source": [
    "import cv2"
   ]
  },
  {
   "cell_type": "code",
   "execution_count": 42,
   "id": "2da9d497",
   "metadata": {},
   "outputs": [],
   "source": [
    "img  = cv2.imread('P.jpg',0)"
   ]
  },
  {
   "cell_type": "code",
   "execution_count": 44,
   "id": "1bfbe36f",
   "metadata": {},
   "outputs": [],
   "source": [
    "# For Resizing the Image \n",
    "img = cv2.resize(img, (400, 400)) \n",
    "#  Another way for resizing the Image\n",
    "# img  = cv2.resize(img, (0,0), fx=2, fy=1)"
   ]
  },
  {
   "cell_type": "code",
   "execution_count": 45,
   "id": "b776ea94",
   "metadata": {},
   "outputs": [],
   "source": [
    "# Rotating the Image\n",
    "# img = cv2.rotate(img, cv2.ROTATE_90_COUNTERCLOCKWISE)\n",
    "img = cv2.rotate(img, cv2.ROTATE_180)"
   ]
  },
  {
   "cell_type": "code",
   "execution_count": 46,
   "id": "0766e055",
   "metadata": {},
   "outputs": [
    {
     "data": {
      "text/plain": [
       "True"
      ]
     },
     "execution_count": 46,
     "metadata": {},
     "output_type": "execute_result"
    }
   ],
   "source": [
    "cv2.imwrite('new_img.jpg', img)"
   ]
  },
  {
   "cell_type": "code",
   "execution_count": 43,
   "id": "c797bba1",
   "metadata": {},
   "outputs": [],
   "source": [
    "cv2.imshow('imgage',img)\n",
    "cv2.waitKey(0)\n",
    "cv2.destroyAllWindows()"
   ]
  },
  {
   "cell_type": "code",
   "execution_count": 48,
   "id": "fd3d8724",
   "metadata": {},
   "outputs": [],
   "source": [
    "new_img = cv2.imread('new_img.jpg')\n",
    "cv2.imshow('imgage',new_img)\n",
    "cv2.waitKey(0)\n",
    "cv2.destroyAllWindows()"
   ]
  },
  {
   "cell_type": "code",
   "execution_count": null,
   "id": "9058b7ab",
   "metadata": {},
   "outputs": [],
   "source": []
  }
 ],
 "metadata": {
  "kernelspec": {
   "display_name": "Python 3 (ipykernel)",
   "language": "python",
   "name": "python3"
  },
  "language_info": {
   "codemirror_mode": {
    "name": "ipython",
    "version": 3
   },
   "file_extension": ".py",
   "mimetype": "text/x-python",
   "name": "python",
   "nbconvert_exporter": "python",
   "pygments_lexer": "ipython3",
   "version": "3.11.5"
  }
 },
 "nbformat": 4,
 "nbformat_minor": 5
}
