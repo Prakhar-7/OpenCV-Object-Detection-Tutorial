{
 "cells": [
  {
   "cell_type": "code",
   "execution_count": 1,
   "id": "43d975cf",
   "metadata": {},
   "outputs": [],
   "source": [
    "import cv2"
   ]
  },
  {
   "cell_type": "code",
   "execution_count": 21,
   "id": "4a837763",
   "metadata": {},
   "outputs": [],
   "source": [
    "img  = cv2.imread('P.jpg', -1)\n",
    "img = cv2.resize(img, (400,400))"
   ]
  },
  {
   "cell_type": "code",
   "execution_count": 4,
   "id": "63daf404",
   "metadata": {},
   "outputs": [
    {
     "name": "stdout",
     "output_type": "stream",
     "text": [
      "<class 'numpy.ndarray'>\n"
     ]
    }
   ],
   "source": [
    "print(type(img))"
   ]
  },
  {
   "cell_type": "code",
   "execution_count": 6,
   "id": "23db5f61",
   "metadata": {},
   "outputs": [
    {
     "name": "stdout",
     "output_type": "stream",
     "text": [
      "(1632, 2448, 3)\n"
     ]
    }
   ],
   "source": [
    "print(img.shape)\n",
    "# output form is Height(rows), Width(columns), Channels(blue,green,red)"
   ]
  },
  {
   "cell_type": "code",
   "execution_count": 18,
   "id": "cda6bd66",
   "metadata": {},
   "outputs": [],
   "source": [
    "# Changing the pixels of image \n",
    "import random\n",
    "\n",
    "img = cv2.imread('C.jpg')\n",
    "img = cv2.resize(img, (400,400))\n",
    "for i in range(0, 100 , 2):\n",
    "    for j in range(img.shape[1]):\n",
    "        img[i][j] = [random.randint(0, 0), random.randint(0, 255), random.randint(0, 0)]\n",
    "        \n",
    "cv2.imshow('Image', img)\n",
    "cv2.waitKey(0)\n",
    "cv2.destroyAllWindows()"
   ]
  },
  {
   "cell_type": "code",
   "execution_count": 26,
   "id": "816483d7",
   "metadata": {},
   "outputs": [],
   "source": [
    "# Creating a slice of the image and pasting on the image at other position. Note: img[y-axis, x-axis]\n",
    "\n",
    "tag = img[100:200, 150:200]\n",
    "img[200:300, 250:300] = tag\n",
    "\n",
    "cv2.imshow('Image', img)\n",
    "cv2.waitKey(0)\n",
    "cv2.destroyAllWindows()"
   ]
  },
  {
   "cell_type": "code",
   "execution_count": null,
   "id": "735cef9b",
   "metadata": {},
   "outputs": [],
   "source": []
  }
 ],
 "metadata": {
  "kernelspec": {
   "display_name": "Python 3 (ipykernel)",
   "language": "python",
   "name": "python3"
  },
  "language_info": {
   "codemirror_mode": {
    "name": "ipython",
    "version": 3
   },
   "file_extension": ".py",
   "mimetype": "text/x-python",
   "name": "python",
   "nbconvert_exporter": "python",
   "pygments_lexer": "ipython3",
   "version": "3.11.5"
  }
 },
 "nbformat": 4,
 "nbformat_minor": 5
}
